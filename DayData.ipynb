{
 "cells": [
  {
   "cell_type": "code",
   "execution_count": 1,
   "metadata": {},
   "outputs": [],
   "source": [
    "# import package\n",
    "from datetime import datetime as dtime\n",
    "from datetime import date,timedelta\n",
    "from urllib.request import urlopen\n",
    "import requests\n",
    "from dateutil import rrule\n",
    "import matplotlib.pyplot as plt\n",
    "from datetime import datetime\n",
    "import pandas as pd\n",
    "import numpy as np\n",
    "import json\n",
    "import time\n",
    "import os\n",
    "from io import StringIO\n",
    "from Tools import *\n",
    "import csv\n",
    "from Tools import *\n",
    "import matplotlib.pyplot as plt\n",
    "import matplotlib.dates as mdates"
   ]
  },
  {
   "cell_type": "code",
   "execution_count": 2,
   "metadata": {},
   "outputs": [
    {
     "name": "stdout",
     "output_type": "stream",
     "text": [
      "Load init file: .\\Initialization.ini\n"
     ]
    }
   ],
   "source": [
    "# 讀取INI檔案\n",
    "InitFile = IniTool()\n",
    "# 讀取路徑\n",
    "DataPath = InitFile.Read('Infomation', 'DataPath')\n",
    "# 總資料開始日期\n",
    "DataStartDate = InitFile.Read('Infomation', 'DataStartDate')\n",
    "# 開始統計的日期\n",
    "StartDate = InitFile.Read('Infomation', 'StartDate')\n"
   ]
  },
  {
   "cell_type": "code",
   "execution_count": 3,
   "metadata": {},
   "outputs": [],
   "source": [
    "def GetDataFrame_(date):\n",
    "    url = 'https://www.twse.com.tw/exchangeReport/MI_INDEX?response=csv&date=' + date + '&type=ALL';\n",
    "    print (url)\n",
    "    # 下載股價\n",
    "    r = requests.post('https://www.twse.com.tw/exchangeReport/MI_INDEX?response=csv&date=' + date + '&type=ALL')\n",
    "    # 整理一些字串：\n",
    "#     df = df.apply(lambda s: pd.to_numeric(s.astype(str).str.replace(\",\", \"\").replace(\"+\", \"1\").replace(\"-\", \"-1\"), errors='coerce'))\n",
    "    # 整理資料，變成表格\n",
    "    df = pd.read_csv(StringIO(r.text.replace(\"=\", \"\")), \n",
    "            header=[\"證券代號\" in l for l in r.text.split(\"\\n\")].index(True)-1)\n",
    "    return df"
   ]
  },
  {
   "cell_type": "code",
   "execution_count": 4,
   "metadata": {},
   "outputs": [],
   "source": [
    "def GetDataFrame(date):\n",
    "    file = DataPath + date + '.csv'\n",
    "    datas = pd.DataFrame()\n",
    "#     print(file)\n",
    "#     with open(file) as csvFile:\n",
    "#         csvReader = csv.reader(csvFile)\n",
    "#         datas = list(csvReader)\n",
    "        \n",
    "    f = open(file, 'r')\n",
    "    text = f.read()\n",
    "    f.close()\n",
    "#     for line in f.readlines():\n",
    "#         print(line)\n",
    "\n",
    "    \n",
    "#     print(datas[0])\n",
    "    \n",
    "    df = pd.read_csv(StringIO(text.replace(\"=\", \"\")), thousands=\",\",\n",
    "        header=[\"證券代號\" in l for l in text.split(\"\\n\")].index(True)-1)\n",
    "    df.insert(0,'Date',date)\n",
    "#     new_header = datas.loc['證券代號']\n",
    "#     new_header = create_new_header(new_header)\n",
    "#     df = datas.loc['證券代號']\n",
    "    return df\n",
    "# GetDataFrame('20210804')"
   ]
  },
  {
   "cell_type": "code",
   "execution_count": null,
   "metadata": {},
   "outputs": [],
   "source": [
    "#GetDataFrame('20210804')"
   ]
  },
  {
   "cell_type": "code",
   "execution_count": 1,
   "metadata": {},
   "outputs": [],
   "source": [
    "def GetDayList(begin, end):\n",
    "    # 建立搜索清單\n",
    "    DayList = []\n",
    "    for i in range((end - begin).days+1):\n",
    "        day = begin + timedelta(days=i)\n",
    "        w_day = day.weekday()\n",
    "        c_day = day.strftime(\"%Y%m%d\")\n",
    "        NotInList = True\n",
    "        for index, row in df_HS.iterrows():\n",
    "            if str(c_day) == str(row['Date']):\n",
    "                NotInList = False\n",
    "        if (w_day != 5 and w_day !=6 and NotInList):\n",
    "            DayList.append(c_day)\n",
    "    return DayList"
   ]
  },
  {
   "cell_type": "code",
   "execution_count": null,
   "metadata": {},
   "outputs": [],
   "source": []
  },
  {
   "cell_type": "code",
   "execution_count": 6,
   "metadata": {},
   "outputs": [
    {
     "data": {
      "text/plain": [
       "datetime.datetime(2020, 1, 1, 0, 0)"
      ]
     },
     "execution_count": 6,
     "metadata": {},
     "output_type": "execute_result"
    }
   ],
   "source": [
    "# 字串轉Datetime\n",
    "begin = datetime.strptime(StartDate, \"%Y-%m-%d\")\n",
    "begin"
   ]
  },
  {
   "cell_type": "code",
   "execution_count": 16,
   "metadata": {},
   "outputs": [
    {
     "name": "stdout",
     "output_type": "stream",
     "text": [
      "2021-09-11 00:19:10.431868\n"
     ]
    }
   ],
   "source": [
    "# end = datetime.today() - timedelta(days=2)\n",
    "end = datetime.today()\n",
    "print (end)"
   ]
  },
  {
   "cell_type": "code",
   "execution_count": 17,
   "metadata": {},
   "outputs": [
    {
     "data": {
      "text/plain": [
       "20190101"
      ]
     },
     "execution_count": 17,
     "metadata": {},
     "output_type": "execute_result"
    }
   ],
   "source": [
    "# 讀取休市清單\n",
    "df_HS = pd.read_csv('holidaySchedule.csv', index_col = 0)\n",
    "df_HS.loc[:,'Date'].min()"
   ]
  },
  {
   "cell_type": "code",
   "execution_count": 18,
   "metadata": {},
   "outputs": [],
   "source": [
    "# 建立搜索清單\n",
    "DayList = GetDayList(begin, end)\n"
   ]
  },
  {
   "cell_type": "code",
   "execution_count": 19,
   "metadata": {},
   "outputs": [
    {
     "name": "stdout",
     "output_type": "stream",
     "text": [
      "20210910\n"
     ]
    },
    {
     "data": {
      "text/plain": [
       "410"
      ]
     },
     "execution_count": 19,
     "metadata": {},
     "output_type": "execute_result"
    }
   ],
   "source": [
    "ListLen = len(DayList)\n",
    "print(DayList[-1])\n",
    "ListLen"
   ]
  },
  {
   "cell_type": "code",
   "execution_count": 20,
   "metadata": {},
   "outputs": [
    {
     "name": "stdout",
     "output_type": "stream",
     "text": [
      " 檔案存在。407\n",
      "檔案不存在。\n",
      " Loading... 99.76% 20210909 \n",
      "檔案不存在。\n",
      " Loading... 100.0% 20210910 "
     ]
    }
   ],
   "source": [
    "StartTime = dtime.now()\n",
    "for idx, val in enumerate(DayList):\n",
    "    CurrentTime = dtime.now()\n",
    "    if val == CurrentTime.strftime(\"%Y%m%d\") and CurrentTime.hour < 14:\n",
    "        break;\n",
    "    \n",
    "    fullpath = DataPath + val + '.csv'\n",
    "    # 確認是否有舊資料\n",
    "    NoHistory = False\n",
    "    if os.path.isfile(fullpath):\n",
    "        # 檔案存在的處理\n",
    "        print(\"\\r 檔案存在。\" + str(idx), end=\"\")\n",
    "    else:\n",
    "        # 檔案不存在的處理\n",
    "        print(\"\\n檔案不存在。\")\n",
    "        NoHistory = True\n",
    "    if NoHistory is True:\n",
    "        url = 'https://www.twse.com.tw/exchangeReport/MI_INDEX?response=csv&date=' + val + '&type=ALL'\n",
    "        print (\"\\r Loading... \"+ str(round((idx+1)/ListLen*100,2)) + \"% \" +val + \" \", end=\"\")\n",
    "        r = requests.get(url, allow_redirects=True)\n",
    "        open(fullpath, 'wb').write(r.content)\n",
    "        time.sleep(15)\n",
    "    \n"
   ]
  },
  {
   "cell_type": "code",
   "execution_count": null,
   "metadata": {},
   "outputs": [],
   "source": [
    "test1 = GetDataFrame('20210803')\n",
    "fliter = (test1['證券代號'] == '3034')\n",
    "test1[fliter]"
   ]
  },
  {
   "cell_type": "code",
   "execution_count": null,
   "metadata": {},
   "outputs": [],
   "source": [
    "# 建立特定股票的清單\n",
    "List = []\n",
    "DFList = list()\n",
    "for idx, val in enumerate(DayList):\n",
    "    CurrentTime = dtime.now()\n",
    "    if val == CurrentTime.strftime(\"%Y%m%d\") and CurrentTime.hour < 14:\n",
    "        break;\n",
    "    \n",
    "    fullpath = DataPath + val + '.csv'\n",
    "    # 確認是否有舊資料\n",
    "    NoHistory = False\n",
    "    if os.path.isfile(fullpath):\n",
    "        # 檔案存在的處理\n",
    "        print(\"\\r 檔案存在。\" + str(idx) + \" \" + val, end=\"\")\n",
    "    else:\n",
    "        # 檔案不存在的處理\n",
    "        print(\"\\n檔案不存在。\")\n",
    "        NoHistory = True\n",
    "    if NoHistory is False:\n",
    "#         print(val)\n",
    "        df = GetDataFrame(val)\n",
    "        DFList.append(df)\n",
    "#         print(df)\n",
    "#         fliter = (df['證券代號'] == '3034')"
   ]
  },
  {
   "cell_type": "code",
   "execution_count": null,
   "metadata": {},
   "outputs": [],
   "source": [
    "# 更新清單\n",
    "def UpdateDFList():\n",
    "    CurrentTime = dtime.now()\n",
    "    Start = False\n",
    "    LastDataDay = DFList[-1].loc[0,'Date']\n",
    "    for idx, val in enumerate(DayList):\n",
    "\n",
    "        if LastDataDay == val:\n",
    "            Start = True\n",
    "            print(idx)\n",
    "            continue\n",
    "        if Start is True:\n",
    "#             print (\"WTF\")\n",
    "            if val == CurrentTime.strftime(\"%Y%m%d\") and CurrentTime.hour < 14:\n",
    "                break;\n",
    "            fullpath = DataPath + val + '.csv'\n",
    "            # 確認是否有舊資料\n",
    "            NoHistory = False\n",
    "            if os.path.isfile(fullpath):\n",
    "                # 檔案存在的處理\n",
    "                print(\"\\r 檔案存在。\" + str(idx) + \" \" + val, end=\"\")\n",
    "            else:\n",
    "                # 檔案不存在的處理\n",
    "                print(\"\\n檔案不存在。\")\n",
    "                NoHistory = True\n",
    "            if NoHistory is False:\n",
    "    #             print(val)\n",
    "                df = GetDataFrame(val)\n",
    "                DFList.append(df)\n",
    "        \n",
    "UpdateDFList()"
   ]
  },
  {
   "cell_type": "code",
   "execution_count": null,
   "metadata": {},
   "outputs": [],
   "source": [
    "DFList[-1]"
   ]
  },
  {
   "cell_type": "code",
   "execution_count": null,
   "metadata": {},
   "outputs": [],
   "source": [
    "SelectDataList = pd.DataFrame()\n",
    "for dt in DFList:\n",
    "#     fliter = (dt['證券代號'] == '3034')\n",
    "    if SelectDataList.empty:\n",
    "        SelectDataList = dt.loc[dt['證券代號'] == '1235']\n",
    "    else:\n",
    "        SelectDataList = pd.concat([SelectDataList, dt.loc[dt['證券代號'] == '1235']], ignore_index=True )\n",
    "#     print(dt.loc[dt['證券代號'] == '3034'], ignore_index=True)\n",
    "SelectDataList"
   ]
  },
  {
   "cell_type": "code",
   "execution_count": null,
   "metadata": {},
   "outputs": [],
   "source": [
    "def GetSelectDataList(src, code):\n",
    "    dst = pd.DataFrame()\n",
    "    for dt in src:\n",
    "        if dst.empty:\n",
    "            dst = dt.loc[dt['證券代號'] == code]\n",
    "        else:\n",
    "            dst = pd.concat([dst, dt.loc[dt['證券代號'] == code]], ignore_index=True )\n",
    "    return dst"
   ]
  },
  {
   "cell_type": "code",
   "execution_count": null,
   "metadata": {},
   "outputs": [],
   "source": [
    "SelectDataList = GetSelectDataList(DFList, '')\n",
    "SelectDataList"
   ]
  },
  {
   "cell_type": "code",
   "execution_count": null,
   "metadata": {},
   "outputs": [],
   "source": [
    "# 往前查找\n",
    "def GetPricePrevious(data, index):\n",
    "    print('GetPricePrevious')\n",
    "    if index == 0:\n",
    "        return -1\n",
    "    else:\n",
    "        currentIndex = index - 1\n",
    "        price = data.loc[current_index, '收盤價']\n",
    "        if price == '--':\n",
    "            price = GetPricePrevious(data, currentIndex)\n",
    "        else:\n",
    "            return price\n",
    "    \n",
    "# 往後查找\n",
    "def GetPriceNext(data, index):\n",
    "    print('GetPriceNext')\n",
    "    DataLen = len(data)\n",
    "    if index + 1 >= DataLen:\n",
    "        return -1\n",
    "    else:\n",
    "        currentIndex = index + 1\n",
    "        price = data.loc[currentIndex, '收盤價']\n",
    "        change = data.loc[currentIndex, '漲跌價差']\n",
    "        new_price = -1\n",
    "        if price == '--':\n",
    "            new_price = GetPriceNext(data, currentIndex)\n",
    "        else:\n",
    "            new_price = str(float(price) - change)\n",
    "        return new_price\n",
    "    \n",
    "def GetPrice(data, index):\n",
    "    # 防呆\n",
    "    if data.loc[index, '收盤價'] != '--':\n",
    "        return data.loc[index, '收盤價']\n",
    "    else:\n",
    "        price = GetPricePrevious(data, index)\n",
    "        if price == -1:\n",
    "            # 往前找沒找到的情況往後找\n",
    "            price = GetPriceNext(data, index)\n",
    "        return price\n",
    "\n"
   ]
  },
  {
   "cell_type": "code",
   "execution_count": null,
   "metadata": {},
   "outputs": [],
   "source": [
    "price = GetPriceNext(SelectDataList, 87)\n",
    "print(price)\n",
    "print(SelectDataList.loc[87,'收盤價'])\n",
    "print(SelectDataList.loc[87,'漲跌價差'])\n",
    "print(SelectDataList.loc[88,'收盤價'])\n",
    "print(SelectDataList.loc[88,'漲跌價差'])\n",
    "df = pd.DataFrame()\n",
    "df = SelectDataList.loc[86]\n",
    "print(df)\n",
    "df = pd.concat([df, SelectDataList.loc[87]], ignore_index=False )\n",
    "df = pd.concat([df, SelectDataList.loc[88]], ignore_index=False )\n",
    "df\n",
    "\n",
    "# pPrice = GetPrice(SelectDataList, 87)\n",
    "# print(SelectDataList.loc[86,'收盤價'])\n",
    "# print(SelectDataList.loc[87,'漲跌價差'])\n",
    "# print(pPrice)\n",
    "# SelectDataList.loc[87,'收盤價'] = str(pPrice)\n",
    "# print(SelectDataList.loc[87,'收盤價'])"
   ]
  },
  {
   "cell_type": "code",
   "execution_count": null,
   "metadata": {},
   "outputs": [],
   "source": [
    "def CheckList(code, codelist):\n",
    "    foundit = False\n",
    "    for c in codelist:\n",
    "        if c == code:\n",
    "            foundit = True\n",
    "            break\n",
    "    return foundit\n",
    "\n",
    "def BuildListByDeal( datalist, lower, day):\n",
    "    CodeList = []\n",
    "    count = day\n",
    "    for idx, dayData in enumerate(reversed(DFList)):\n",
    "        \n",
    "        check = False\n",
    "#         print(dayData)\n",
    "#         for idy, stockData in enumerate(dayData): \n",
    "#         print (dayData)\n",
    "#         print (len(dayData))\n",
    "        datacount = 0\n",
    "        datalen = len(dayData)\n",
    "#        print (count)\n",
    "        print(\"\\r\" + str(count) + ' ', end=\"\")\n",
    "        for idy in range(datalen) :\n",
    "            #print(idy)\n",
    "            deal = int(dayData.loc[idy,'成交筆數'])\n",
    "            code = dayData.loc[idy,'證券代號']\n",
    "            #print (code + ' ' + str(deal))\n",
    "            #deal = stockData.loc['成交筆數']\n",
    "#             print(stockData)\n",
    "#             deal = 0\n",
    "            \n",
    "            if deal > lower:\n",
    "                check = True\n",
    "                if CheckList(code, CodeList) is False:\n",
    "                    CodeList.append(code)\n",
    "        count -= 1\n",
    "        if count == 0:\n",
    "            break\n",
    "    return CodeList\n",
    "CodeList = BuildListByDeal(DFList, 1000, 10)\n",
    "\n",
    "print(CodeList)"
   ]
  },
  {
   "cell_type": "markdown",
   "metadata": {},
   "source": [
    "##### for idx, dayData in enumerate(DFList):\n",
    "    for idy, price in reversed(list(enumerate(dt['收盤價']))):\n",
    "        if price == '--':\n",
    "            print(str(idx) + ' ' + str(idy))\n",
    "            "
   ]
  },
  {
   "cell_type": "code",
   "execution_count": null,
   "metadata": {},
   "outputs": [],
   "source": [
    "len(CodeList)"
   ]
  },
  {
   "cell_type": "code",
   "execution_count": null,
   "metadata": {},
   "outputs": [],
   "source": [
    "# 依據CodeList建立表格\n",
    "def GetPriceTable(datalist, codelist):\n",
    "    PriceDFs = []\n",
    "    Len = len(CodeList)\n",
    "    for idy, code in enumerate(codelist):\n",
    "        print(\"\\r\" + str(idy) + '/' + str(Len), end=\"\")\n",
    "        SelectDataList = GetSelectDataList(datalist, code)\n",
    "        PriceDFs.append(SelectDataList)\n",
    "#     print(PriceDF)\n",
    "#     for idx, dayData in enumerate(datalist):\n",
    "#         print(idx)\n",
    "#         for idy, code in enumerate(codelist):\n",
    "#             price = dayData.loc[idy, '收盤價']\n",
    "# #             print (price)\n",
    "#             if price == '--':\n",
    "#                 print(str(idx) + ' ' + str(idy))\n",
    "#                 SelectDataList = GetSelectDataList(datalist, code)\n",
    "#                 print(SelectDataList)\n",
    "#                 price = GetPricePrevious(SelectDataList,idx)\n",
    "# #             print(price)\n",
    "#             PriceDF.iloc[idy,idx] = price\n",
    "# #         print(PriceDF)\n",
    "    return PriceDFs\n",
    "    \n",
    "PriceDFs = GetPriceTable(DFList,CodeList)\n"
   ]
  },
  {
   "cell_type": "code",
   "execution_count": null,
   "metadata": {},
   "outputs": [],
   "source": [
    "CodeDataPath = \"./CodeData/\"\n",
    "for idx, code in enumerate(CodeList):\n",
    "    path = CodeDataPath + code + \".csv\"\n",
    "    PriceDFs[idx].to_csv(path, encoding='utf_8_sig')\n",
    "    "
   ]
  },
  {
   "cell_type": "code",
   "execution_count": null,
   "metadata": {},
   "outputs": [],
   "source": [
    "# PriceDFs[0]\n",
    "def GetMA(datalist, index):\n",
    "    List = []\n",
    "    df = datalist[index]\n",
    "#     print(df.loc[1])\n",
    "    print(len(df))\n",
    "    days = [5,10,20,60,200]\n",
    "    ma = [0,0,0,0,0]\n",
    "    total = 0\n",
    "    count = 0;\n",
    "    for idx in reversed(range(len(df))):\n",
    "        count += 1;\n",
    "        price = df.loc[idx,'收盤價']\n",
    "        total += float(price)\n",
    "        if count == 5:\n",
    "            ma[0] = total / count\n",
    "        if count == 10:\n",
    "            ma[1] = total / count\n",
    "        if count == 20:\n",
    "            ma[2] = total / count\n",
    "        if count == 60:\n",
    "            ma[3] = total / count\n",
    "        if count == 200:\n",
    "            ma[4] = total / count\n",
    "    return ma\n",
    "            \n",
    "MA = GetMA(PriceDFs, 3)\n",
    "print (MA)"
   ]
  },
  {
   "cell_type": "code",
   "execution_count": null,
   "metadata": {},
   "outputs": [],
   "source": []
  },
  {
   "cell_type": "code",
   "execution_count": null,
   "metadata": {},
   "outputs": [],
   "source": [
    "# def GetMA(datalist, code, days):\n",
    "\n",
    "\n",
    "#     List = []\n",
    "#     count = days\n",
    "#     dst = pd.DataFrame()\n",
    "#     for idx, dayData in enumerate(reversed(DFList)):\n",
    "        \n",
    "# #         dst = dayData.loc[dayData['證券代號'] == code]\n",
    "# #         print(dst)\n",
    "#         for idy in range(len(dayData)):\n",
    "#             if code == dayData.loc[idy, '證券代號']:\n",
    "#                 price = dayData.loc[idy,'收盤價']\n",
    "#                 if price == '--':\n",
    "#                     SelectDataList = GetSelectDataList(datalist, code)\n",
    "#                     GetPricePrevious(SelectDataList,code)\n",
    "#                 print (dayData.loc[idy,'收盤價'])\n",
    "#         count -= 1\n",
    "#         if count <= 0:\n",
    "#             break\n",
    "#     return dst\n",
    "# #    for idx, price in enumerate(data['收盤價']):\n",
    "# #         print(str(idx)+\" \"+price)\n",
    "# #        if price == '--':\n",
    "# #            print(idx)\n",
    "# #     for dt in data:\n",
    "# #           if dt['收盤價'].contains('--'):\n",
    "# #                 List.append(dt)\n",
    "# Result = GetMA(DFList, '3006', 5)\n",
    "# Result"
   ]
  },
  {
   "cell_type": "code",
   "execution_count": null,
   "metadata": {},
   "outputs": [],
   "source": []
  },
  {
   "cell_type": "code",
   "execution_count": null,
   "metadata": {},
   "outputs": [],
   "source": [
    "\n"
   ]
  },
  {
   "cell_type": "code",
   "execution_count": null,
   "metadata": {
    "scrolled": true
   },
   "outputs": [],
   "source": []
  },
  {
   "cell_type": "code",
   "execution_count": null,
   "metadata": {},
   "outputs": [],
   "source": []
  },
  {
   "cell_type": "code",
   "execution_count": null,
   "metadata": {},
   "outputs": [],
   "source": []
  },
  {
   "cell_type": "code",
   "execution_count": null,
   "metadata": {},
   "outputs": [],
   "source": []
  },
  {
   "cell_type": "code",
   "execution_count": null,
   "metadata": {},
   "outputs": [],
   "source": []
  },
  {
   "cell_type": "code",
   "execution_count": null,
   "metadata": {},
   "outputs": [],
   "source": []
  },
  {
   "cell_type": "code",
   "execution_count": null,
   "metadata": {},
   "outputs": [],
   "source": []
  },
  {
   "cell_type": "code",
   "execution_count": null,
   "metadata": {},
   "outputs": [],
   "source": []
  },
  {
   "cell_type": "code",
   "execution_count": null,
   "metadata": {},
   "outputs": [],
   "source": []
  },
  {
   "cell_type": "code",
   "execution_count": null,
   "metadata": {},
   "outputs": [],
   "source": []
  },
  {
   "cell_type": "code",
   "execution_count": null,
   "metadata": {},
   "outputs": [],
   "source": []
  },
  {
   "cell_type": "code",
   "execution_count": null,
   "metadata": {},
   "outputs": [],
   "source": []
  },
  {
   "cell_type": "code",
   "execution_count": null,
   "metadata": {},
   "outputs": [],
   "source": []
  },
  {
   "cell_type": "code",
   "execution_count": null,
   "metadata": {},
   "outputs": [],
   "source": []
  },
  {
   "cell_type": "code",
   "execution_count": null,
   "metadata": {},
   "outputs": [],
   "source": []
  },
  {
   "cell_type": "code",
   "execution_count": null,
   "metadata": {},
   "outputs": [],
   "source": []
  },
  {
   "cell_type": "code",
   "execution_count": null,
   "metadata": {},
   "outputs": [],
   "source": []
  },
  {
   "cell_type": "code",
   "execution_count": null,
   "metadata": {},
   "outputs": [],
   "source": []
  },
  {
   "cell_type": "code",
   "execution_count": null,
   "metadata": {},
   "outputs": [],
   "source": []
  },
  {
   "cell_type": "code",
   "execution_count": null,
   "metadata": {},
   "outputs": [],
   "source": []
  },
  {
   "cell_type": "code",
   "execution_count": null,
   "metadata": {
    "scrolled": true
   },
   "outputs": [],
   "source": []
  },
  {
   "cell_type": "code",
   "execution_count": null,
   "metadata": {},
   "outputs": [],
   "source": []
  },
  {
   "cell_type": "code",
   "execution_count": null,
   "metadata": {},
   "outputs": [],
   "source": []
  },
  {
   "cell_type": "code",
   "execution_count": null,
   "metadata": {},
   "outputs": [],
   "source": []
  },
  {
   "cell_type": "code",
   "execution_count": null,
   "metadata": {},
   "outputs": [],
   "source": []
  },
  {
   "cell_type": "code",
   "execution_count": null,
   "metadata": {},
   "outputs": [],
   "source": []
  },
  {
   "cell_type": "code",
   "execution_count": null,
   "metadata": {},
   "outputs": [],
   "source": []
  },
  {
   "cell_type": "code",
   "execution_count": null,
   "metadata": {},
   "outputs": [],
   "source": [
    "\n",
    "    "
   ]
  },
  {
   "cell_type": "code",
   "execution_count": null,
   "metadata": {},
   "outputs": [],
   "source": []
  },
  {
   "cell_type": "code",
   "execution_count": null,
   "metadata": {},
   "outputs": [],
   "source": []
  },
  {
   "cell_type": "code",
   "execution_count": null,
   "metadata": {},
   "outputs": [],
   "source": []
  },
  {
   "cell_type": "code",
   "execution_count": null,
   "metadata": {},
   "outputs": [],
   "source": []
  },
  {
   "cell_type": "code",
   "execution_count": null,
   "metadata": {},
   "outputs": [],
   "source": []
  }
 ],
 "metadata": {
  "kernelspec": {
   "display_name": "Python (myenv)",
   "language": "python",
   "name": "myenv"
  },
  "language_info": {
   "codemirror_mode": {
    "name": "ipython",
    "version": 3
   },
   "file_extension": ".py",
   "mimetype": "text/x-python",
   "name": "python",
   "nbconvert_exporter": "python",
   "pygments_lexer": "ipython3",
   "version": "3.6.12"
  }
 },
 "nbformat": 4,
 "nbformat_minor": 4
}
