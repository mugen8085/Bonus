{
 "cells": [
  {
   "cell_type": "code",
   "execution_count": 2,
   "metadata": {},
   "outputs": [],
   "source": [
    "# import package\n",
    "from datetime import datetime as dtime\n",
    "from datetime import date,timedelta\n",
    "from urllib.request import urlopen\n",
    "import requests\n",
    "from dateutil import rrule\n",
    "import matplotlib.pyplot as plt\n",
    "from datetime import datetime\n",
    "import pandas as pd\n",
    "import numpy as np\n",
    "import json\n",
    "import time\n",
    "import os\n",
    "from io import StringIO\n",
    "from Tools import *"
   ]
  },
  {
   "cell_type": "code",
   "execution_count": 3,
   "metadata": {},
   "outputs": [
    {
     "name": "stdout",
     "output_type": "stream",
     "text": [
      "Load init file: .\\Initialization.ini\n"
     ]
    }
   ],
   "source": [
    "#讀取INI檔案\n",
    "InitFile = IniTool()"
   ]
  },
  {
   "cell_type": "code",
   "execution_count": 4,
   "metadata": {},
   "outputs": [],
   "source": [
    "#轉換日期民國到西元\n",
    "def date_convert(strDate):\n",
    "    arydate = strDate.split(\"/\")\n",
    "    return date(int(arydate[0]) + 1911, int(arydate[1]), int(arydate[2])).strftime('%Y/%m/%d')"
   ]
  },
  {
   "cell_type": "code",
   "execution_count": 5,
   "metadata": {},
   "outputs": [],
   "source": [
    "# 爬取每月股價的目標網站並包裝成函式\n",
    "def craw_one_month(stock_number,date):\n",
    "    url = (\n",
    "        \"http://www.twse.com.tw/exchangeReport/STOCK_DAY?response=json&date=\"+\n",
    "        date.strftime('%Y%m%d')+\n",
    "        \"&stockNo=\"+\n",
    "        str(stock_number)\n",
    "    )\n",
    "    data = json.loads(urlopen(url).read())\n",
    "    return pd.DataFrame(data['data'],columns=data['fields'])"
   ]
  },
  {
   "cell_type": "code",
   "execution_count": 6,
   "metadata": {},
   "outputs": [],
   "source": [
    "# 根據使用者輸入的日期，以月為單位，重複呼叫爬取月股價的函式\n",
    "def craw_stock(stock_number, start_month):\n",
    "    b_month = date(*[int(x) for x in start_month.split('-')])\n",
    "    now = dtime.now().strftime(\"%Y-%m-%d\")  # 取得現在時間\n",
    "    e_month = date(*[int(x) for x in now.split('-')])\n",
    "    \n",
    "    result = pd.DataFrame()\n",
    "    for dt in rrule.rrule(rrule.MONTHLY, dtstart=b_month, until=e_month):\n",
    "        print(dt)\n",
    "        result = pd.concat([result, craw_one_month(stock_number, dt)], ignore_index=True)\n",
    "        time.sleep(10000.0 / 1000.0);\n",
    "\n",
    "    return result"
   ]
  },
  {
   "cell_type": "code",
   "execution_count": 68,
   "metadata": {},
   "outputs": [],
   "source": [
    "def ConvertType_NewData(df):\n",
    "    #轉換日期民國到西元.\n",
    "    df['日期'] = [date_convert(x) for x in df['日期']]\n",
    "    df['日期'] = pd.to_datetime(df['日期'].astype(str), format='%Y/%m/%d')\n",
    "    #轉換型態.\n",
    "    if df['成交筆數'].dtype != 'float64':\n",
    "        df['成交筆數'] = df['成交筆數'].str.replace(',','').astype(float)\n",
    "    if df['成交股數'].dtype != 'float64':\n",
    "        df['成交股數'] = df['成交股數'].str.replace(',','').astype(float)\n",
    "    if df['成交金額'].dtype != 'float64':\n",
    "        df['成交金額'] = df['成交金額'].str.replace(',','').astype(float)"
   ]
  },
  {
   "cell_type": "code",
   "execution_count": 7,
   "metadata": {},
   "outputs": [],
   "source": [
    "# 建立資料夾\n",
    "def MKDir(path):\n",
    "    try:\n",
    "        os.mkdir(path)\n",
    "    except OSError:\n",
    "        print (\"Creation of the directory %s failed\" % path)"
   ]
  },
  {
   "cell_type": "code",
   "execution_count": 12,
   "metadata": {},
   "outputs": [],
   "source": [
    "NoHistory = False"
   ]
  },
  {
   "cell_type": "code",
   "execution_count": 13,
   "metadata": {},
   "outputs": [
    {
     "name": "stdout",
     "output_type": "stream",
     "text": [
      "2303\n",
      "2020-01-01\n",
      "./Data/\n",
      "./Data/2303.csv\n"
     ]
    }
   ],
   "source": [
    "DataPath = InitFile.Read('Infomation', 'DataPath')\n",
    "Code = InitFile.Read('Infomation', 'StockCode')\n",
    "Date = InitFile.Read('Infomation', 'StartDate')\n",
    "print(Code)\n",
    "print(Date)\n",
    "print(DataPath)\n",
    "fullpath = DataPath + Code + '.csv'\n",
    "print(fullpath) "
   ]
  },
  {
   "cell_type": "code",
   "execution_count": 14,
   "metadata": {},
   "outputs": [
    {
     "name": "stdout",
     "output_type": "stream",
     "text": [
      "檔案不存在。\n"
     ]
    }
   ],
   "source": [
    "#確認是否有舊資料\n",
    "if os.path.isfile(fullpath):\n",
    "    #檔案存在的處理\n",
    "    print(\"檔案存在。\")\n",
    "else:\n",
    "    #檔案不存在的處理\n",
    "    print(\"檔案不存在。\")\n",
    "    NoHistory = True"
   ]
  },
  {
   "cell_type": "code",
   "execution_count": 15,
   "metadata": {},
   "outputs": [],
   "source": [
    "df_History = pd.DataFrame()"
   ]
  },
  {
   "cell_type": "code",
   "execution_count": 16,
   "metadata": {},
   "outputs": [
    {
     "name": "stdout",
     "output_type": "stream",
     "text": [
      "2020-01-01 00:00:00\n",
      "2020-02-01 00:00:00\n",
      "2020-03-01 00:00:00\n",
      "2020-04-01 00:00:00\n",
      "2020-05-01 00:00:00\n",
      "2020-06-01 00:00:00\n",
      "2020-07-01 00:00:00\n",
      "2020-08-01 00:00:00\n",
      "2020-09-01 00:00:00\n",
      "2020-10-01 00:00:00\n",
      "2020-11-01 00:00:00\n",
      "2020-12-01 00:00:00\n"
     ]
    }
   ],
   "source": [
    "if NoHistory is True:\n",
    "    df_History = craw_stock(Code,Date)"
   ]
  },
  {
   "cell_type": "code",
   "execution_count": 17,
   "metadata": {},
   "outputs": [],
   "source": [
    "#測試用變數\n",
    "df_His = df_History.copy()"
   ]
  },
  {
   "cell_type": "code",
   "execution_count": 18,
   "metadata": {},
   "outputs": [],
   "source": [
    "if NoHistory is True:\n",
    "    #轉換日期民國到西元.\n",
    "    df_His['日期'] = [date_convert(x) for x in df_His['日期']]\n",
    "    df_His['日期'] = pd.to_datetime(df_His['日期'].astype(str), format='%Y/%m/%d')\n",
    "    #轉換型態.\n",
    "    if df_His['成交筆數'].dtype != 'float64':\n",
    "        df_His['成交筆數'] = df_His['成交筆數'].str.replace(',','').astype(float)\n",
    "    if df_His['成交股數'].dtype != 'float64':\n",
    "        df_His['成交股數'] = df_His['成交股數'].str.replace(',','').astype(float)\n",
    "    if df_His['成交金額'].dtype != 'float64':\n",
    "        df_His['成交金額'] = df_His['成交金額'].str.replace(',','').astype(float)"
   ]
  },
  {
   "cell_type": "code",
   "execution_count": 21,
   "metadata": {},
   "outputs": [],
   "source": [
    "df_His.to_csv(fullpath, encoding='utf_8_sig')"
   ]
  },
  {
   "cell_type": "code",
   "execution_count": 22,
   "metadata": {},
   "outputs": [
    {
     "data": {
      "text/plain": [
       "日期      datetime64[ns]\n",
       "成交股數           float64\n",
       "成交金額           float64\n",
       "開盤價             object\n",
       "最高價             object\n",
       "最低價             object\n",
       "收盤價             object\n",
       "漲跌價差            object\n",
       "成交筆數           float64\n",
       "dtype: object"
      ]
     },
     "execution_count": 22,
     "metadata": {},
     "output_type": "execute_result"
    }
   ],
   "source": [
    "df_His.dtypes"
   ]
  },
  {
   "cell_type": "code",
   "execution_count": 23,
   "metadata": {},
   "outputs": [],
   "source": [
    "#清空\n",
    "df_His = pd.DataFrame()"
   ]
  },
  {
   "cell_type": "code",
   "execution_count": 155,
   "metadata": {},
   "outputs": [
    {
     "data": {
      "text/html": [
       "<div>\n",
       "<style scoped>\n",
       "    .dataframe tbody tr th:only-of-type {\n",
       "        vertical-align: middle;\n",
       "    }\n",
       "\n",
       "    .dataframe tbody tr th {\n",
       "        vertical-align: top;\n",
       "    }\n",
       "\n",
       "    .dataframe thead th {\n",
       "        text-align: right;\n",
       "    }\n",
       "</style>\n",
       "<table border=\"1\" class=\"dataframe\">\n",
       "  <thead>\n",
       "    <tr style=\"text-align: right;\">\n",
       "      <th></th>\n",
       "      <th>日期</th>\n",
       "      <th>成交股數</th>\n",
       "      <th>成交金額</th>\n",
       "      <th>開盤價</th>\n",
       "      <th>最高價</th>\n",
       "      <th>最低價</th>\n",
       "      <th>收盤價</th>\n",
       "      <th>漲跌價差</th>\n",
       "      <th>成交筆數</th>\n",
       "    </tr>\n",
       "  </thead>\n",
       "  <tbody>\n",
       "    <tr>\n",
       "      <th>0</th>\n",
       "      <td>2020/1/2</td>\n",
       "      <td>32937461</td>\n",
       "      <td>544863192</td>\n",
       "      <td>16.45</td>\n",
       "      <td>16.65</td>\n",
       "      <td>16.40</td>\n",
       "      <td>16.55</td>\n",
       "      <td>0.1</td>\n",
       "      <td>5382</td>\n",
       "    </tr>\n",
       "    <tr>\n",
       "      <th>1</th>\n",
       "      <td>2020/1/3</td>\n",
       "      <td>48588354</td>\n",
       "      <td>792990409</td>\n",
       "      <td>16.55</td>\n",
       "      <td>16.55</td>\n",
       "      <td>16.15</td>\n",
       "      <td>16.30</td>\n",
       "      <td>-0.25</td>\n",
       "      <td>9541</td>\n",
       "    </tr>\n",
       "    <tr>\n",
       "      <th>2</th>\n",
       "      <td>2020/1/6</td>\n",
       "      <td>44790472</td>\n",
       "      <td>719002202</td>\n",
       "      <td>16.05</td>\n",
       "      <td>16.15</td>\n",
       "      <td>15.95</td>\n",
       "      <td>16.05</td>\n",
       "      <td>-0.25</td>\n",
       "      <td>5041</td>\n",
       "    </tr>\n",
       "    <tr>\n",
       "      <th>3</th>\n",
       "      <td>2020/1/7</td>\n",
       "      <td>39718117</td>\n",
       "      <td>633334895</td>\n",
       "      <td>16.05</td>\n",
       "      <td>16.15</td>\n",
       "      <td>15.80</td>\n",
       "      <td>16.00</td>\n",
       "      <td>-0.05</td>\n",
       "      <td>7401</td>\n",
       "    </tr>\n",
       "    <tr>\n",
       "      <th>4</th>\n",
       "      <td>2020/1/8</td>\n",
       "      <td>60494690</td>\n",
       "      <td>954618728</td>\n",
       "      <td>15.85</td>\n",
       "      <td>15.90</td>\n",
       "      <td>15.65</td>\n",
       "      <td>15.75</td>\n",
       "      <td>-0.25</td>\n",
       "      <td>9368</td>\n",
       "    </tr>\n",
       "    <tr>\n",
       "      <th>...</th>\n",
       "      <td>...</td>\n",
       "      <td>...</td>\n",
       "      <td>...</td>\n",
       "      <td>...</td>\n",
       "      <td>...</td>\n",
       "      <td>...</td>\n",
       "      <td>...</td>\n",
       "      <td>...</td>\n",
       "      <td>...</td>\n",
       "    </tr>\n",
       "    <tr>\n",
       "      <th>228</th>\n",
       "      <td>2020/12/9</td>\n",
       "      <td>321064214</td>\n",
       "      <td>15950783936</td>\n",
       "      <td>49.10</td>\n",
       "      <td>50.20</td>\n",
       "      <td>49.10</td>\n",
       "      <td>49.90</td>\n",
       "      <td>-1</td>\n",
       "      <td>105914</td>\n",
       "    </tr>\n",
       "    <tr>\n",
       "      <th>229</th>\n",
       "      <td>2020/12/10</td>\n",
       "      <td>460980326</td>\n",
       "      <td>22003933802</td>\n",
       "      <td>48.60</td>\n",
       "      <td>48.90</td>\n",
       "      <td>46.70</td>\n",
       "      <td>47.30</td>\n",
       "      <td>-2.6</td>\n",
       "      <td>162363</td>\n",
       "    </tr>\n",
       "    <tr>\n",
       "      <th>230</th>\n",
       "      <td>2020/12/11</td>\n",
       "      <td>390831102</td>\n",
       "      <td>18150209771</td>\n",
       "      <td>47.45</td>\n",
       "      <td>48.35</td>\n",
       "      <td>45.20</td>\n",
       "      <td>46.10</td>\n",
       "      <td>-1.2</td>\n",
       "      <td>120021</td>\n",
       "    </tr>\n",
       "    <tr>\n",
       "      <th>231</th>\n",
       "      <td>2020/12/14</td>\n",
       "      <td>233249964</td>\n",
       "      <td>10680175679</td>\n",
       "      <td>46.10</td>\n",
       "      <td>46.85</td>\n",
       "      <td>44.60</td>\n",
       "      <td>46.15</td>\n",
       "      <td>0.05</td>\n",
       "      <td>74436</td>\n",
       "    </tr>\n",
       "    <tr>\n",
       "      <th>232</th>\n",
       "      <td>2020/12/15</td>\n",
       "      <td>275779367</td>\n",
       "      <td>12393354215</td>\n",
       "      <td>46.10</td>\n",
       "      <td>46.55</td>\n",
       "      <td>44.00</td>\n",
       "      <td>44.00</td>\n",
       "      <td>-2.15</td>\n",
       "      <td>82136</td>\n",
       "    </tr>\n",
       "  </tbody>\n",
       "</table>\n",
       "<p>233 rows × 9 columns</p>\n",
       "</div>"
      ],
      "text/plain": [
       "             日期       成交股數         成交金額    開盤價    最高價    最低價    收盤價   漲跌價差  \\\n",
       "0      2020/1/2   32937461    544863192  16.45  16.65  16.40  16.55    0.1   \n",
       "1      2020/1/3   48588354    792990409  16.55  16.55  16.15  16.30  -0.25   \n",
       "2      2020/1/6   44790472    719002202  16.05  16.15  15.95  16.05  -0.25   \n",
       "3      2020/1/7   39718117    633334895  16.05  16.15  15.80  16.00  -0.05   \n",
       "4      2020/1/8   60494690    954618728  15.85  15.90  15.65  15.75  -0.25   \n",
       "..          ...        ...          ...    ...    ...    ...    ...    ...   \n",
       "228   2020/12/9  321064214  15950783936  49.10  50.20  49.10  49.90     -1   \n",
       "229  2020/12/10  460980326  22003933802  48.60  48.90  46.70  47.30   -2.6   \n",
       "230  2020/12/11  390831102  18150209771  47.45  48.35  45.20  46.10   -1.2   \n",
       "231  2020/12/14  233249964  10680175679  46.10  46.85  44.60  46.15   0.05   \n",
       "232  2020/12/15  275779367  12393354215  46.10  46.55  44.00  44.00  -2.15   \n",
       "\n",
       "       成交筆數  \n",
       "0      5382  \n",
       "1      9541  \n",
       "2      5041  \n",
       "3      7401  \n",
       "4      9368  \n",
       "..      ...  \n",
       "228  105914  \n",
       "229  162363  \n",
       "230  120021  \n",
       "231   74436  \n",
       "232   82136  \n",
       "\n",
       "[233 rows x 9 columns]"
      ]
     },
     "execution_count": 155,
     "metadata": {},
     "output_type": "execute_result"
    }
   ],
   "source": [
    "df_His = pd.read_csv(fullpath, index_col = 0)\n",
    "df_His"
   ]
  },
  {
   "cell_type": "code",
   "execution_count": 156,
   "metadata": {},
   "outputs": [
    {
     "data": {
      "text/plain": [
       "日期       object\n",
       "成交股數      int64\n",
       "成交金額      int64\n",
       "開盤價     float64\n",
       "最高價     float64\n",
       "最低價     float64\n",
       "收盤價     float64\n",
       "漲跌價差     object\n",
       "成交筆數      int64\n",
       "dtype: object"
      ]
     },
     "execution_count": 156,
     "metadata": {},
     "output_type": "execute_result"
    }
   ],
   "source": [
    "df_His.dtypes"
   ]
  },
  {
   "cell_type": "code",
   "execution_count": 157,
   "metadata": {},
   "outputs": [],
   "source": [
    "#轉換日期格式.\n",
    "df_His['日期'] = pd.to_datetime(df_His['日期'].astype(str), format='%Y/%m/%d')"
   ]
  },
  {
   "cell_type": "code",
   "execution_count": 158,
   "metadata": {},
   "outputs": [
    {
     "data": {
      "text/plain": [
       "日期      datetime64[ns]\n",
       "成交股數             int64\n",
       "成交金額             int64\n",
       "開盤價            float64\n",
       "最高價            float64\n",
       "最低價            float64\n",
       "收盤價            float64\n",
       "漲跌價差            object\n",
       "成交筆數             int64\n",
       "dtype: object"
      ]
     },
     "execution_count": 158,
     "metadata": {},
     "output_type": "execute_result"
    }
   ],
   "source": [
    "df_His.dtypes"
   ]
  },
  {
   "cell_type": "code",
   "execution_count": 159,
   "metadata": {},
   "outputs": [],
   "source": [
    "#取得今天日期\n",
    "today = date.today()"
   ]
  },
  {
   "cell_type": "code",
   "execution_count": 160,
   "metadata": {},
   "outputs": [],
   "source": [
    "#取的今天的表格\n",
    "df_Today = craw_one_month(Code,today)\n",
    "# type(Code)\n",
    "# str(Code)"
   ]
  },
  {
   "cell_type": "code",
   "execution_count": 161,
   "metadata": {},
   "outputs": [
    {
     "data": {
      "text/plain": [
       "日期      object\n",
       "成交股數    object\n",
       "成交金額    object\n",
       "開盤價     object\n",
       "最高價     object\n",
       "最低價     object\n",
       "收盤價     object\n",
       "漲跌價差    object\n",
       "成交筆數    object\n",
       "dtype: object"
      ]
     },
     "execution_count": 161,
     "metadata": {},
     "output_type": "execute_result"
    }
   ],
   "source": [
    "df_Today.dtypes"
   ]
  },
  {
   "cell_type": "code",
   "execution_count": 162,
   "metadata": {},
   "outputs": [],
   "source": [
    "ConvertType_NewData(df_Today)"
   ]
  },
  {
   "cell_type": "code",
   "execution_count": 163,
   "metadata": {},
   "outputs": [
    {
     "data": {
      "text/plain": [
       "Timestamp('2020-12-15 00:00:00')"
      ]
     },
     "execution_count": 163,
     "metadata": {},
     "output_type": "execute_result"
    }
   ],
   "source": [
    "#找出歷史的最後一天和目前的最後一天進行比較\n",
    "lastday_his = df_His.loc[:,'日期'].max()\n",
    "lastday_his"
   ]
  },
  {
   "cell_type": "code",
   "execution_count": 164,
   "metadata": {},
   "outputs": [
    {
     "data": {
      "text/plain": [
       "Timestamp('2020-12-18 00:00:00')"
      ]
     },
     "execution_count": 164,
     "metadata": {},
     "output_type": "execute_result"
    }
   ],
   "source": [
    "lastday_today = df_Today.loc[:,'日期'].max()\n",
    "lastday_today"
   ]
  },
  {
   "cell_type": "code",
   "execution_count": 165,
   "metadata": {},
   "outputs": [],
   "source": [
    "between = lastday_today - lastday_his"
   ]
  },
  {
   "cell_type": "code",
   "execution_count": 166,
   "metadata": {},
   "outputs": [
    {
     "data": {
      "text/plain": [
       "3"
      ]
     },
     "execution_count": 166,
     "metadata": {},
     "output_type": "execute_result"
    }
   ],
   "source": [
    "between.days"
   ]
  },
  {
   "cell_type": "code",
   "execution_count": 167,
   "metadata": {},
   "outputs": [
    {
     "data": {
      "text/plain": [
       "Timestamp('2020-12-01 00:00:00')"
      ]
     },
     "execution_count": 167,
     "metadata": {},
     "output_type": "execute_result"
    }
   ],
   "source": [
    "lastday_his2 = lastday_his - timedelta(days=lastday_his.day-1)\n",
    "lastday_his2"
   ]
  },
  {
   "cell_type": "code",
   "execution_count": 168,
   "metadata": {},
   "outputs": [
    {
     "data": {
      "text/html": [
       "<div>\n",
       "<style scoped>\n",
       "    .dataframe tbody tr th:only-of-type {\n",
       "        vertical-align: middle;\n",
       "    }\n",
       "\n",
       "    .dataframe tbody tr th {\n",
       "        vertical-align: top;\n",
       "    }\n",
       "\n",
       "    .dataframe thead th {\n",
       "        text-align: right;\n",
       "    }\n",
       "</style>\n",
       "<table border=\"1\" class=\"dataframe\">\n",
       "  <thead>\n",
       "    <tr style=\"text-align: right;\">\n",
       "      <th></th>\n",
       "      <th>日期</th>\n",
       "      <th>成交股數</th>\n",
       "      <th>成交金額</th>\n",
       "      <th>開盤價</th>\n",
       "      <th>最高價</th>\n",
       "      <th>最低價</th>\n",
       "      <th>收盤價</th>\n",
       "      <th>漲跌價差</th>\n",
       "      <th>成交筆數</th>\n",
       "    </tr>\n",
       "  </thead>\n",
       "  <tbody>\n",
       "    <tr>\n",
       "      <th>11</th>\n",
       "      <td>2020-12-16</td>\n",
       "      <td>250325714.0</td>\n",
       "      <td>1.133766e+10</td>\n",
       "      <td>44.60</td>\n",
       "      <td>46.10</td>\n",
       "      <td>44.60</td>\n",
       "      <td>44.90</td>\n",
       "      <td>+0.90</td>\n",
       "      <td>78525.0</td>\n",
       "    </tr>\n",
       "    <tr>\n",
       "      <th>12</th>\n",
       "      <td>2020-12-17</td>\n",
       "      <td>189154904.0</td>\n",
       "      <td>8.634708e+09</td>\n",
       "      <td>45.35</td>\n",
       "      <td>46.40</td>\n",
       "      <td>44.90</td>\n",
       "      <td>46.05</td>\n",
       "      <td>+1.15</td>\n",
       "      <td>57672.0</td>\n",
       "    </tr>\n",
       "    <tr>\n",
       "      <th>13</th>\n",
       "      <td>2020-12-18</td>\n",
       "      <td>230929009.0</td>\n",
       "      <td>1.075046e+10</td>\n",
       "      <td>47.00</td>\n",
       "      <td>47.40</td>\n",
       "      <td>45.80</td>\n",
       "      <td>45.85</td>\n",
       "      <td>-0.20</td>\n",
       "      <td>64945.0</td>\n",
       "    </tr>\n",
       "  </tbody>\n",
       "</table>\n",
       "</div>"
      ],
      "text/plain": [
       "           日期         成交股數          成交金額    開盤價    最高價    最低價    收盤價   漲跌價差  \\\n",
       "11 2020-12-16  250325714.0  1.133766e+10  44.60  46.10  44.60  44.90  +0.90   \n",
       "12 2020-12-17  189154904.0  8.634708e+09  45.35  46.40  44.90  46.05  +1.15   \n",
       "13 2020-12-18  230929009.0  1.075046e+10  47.00  47.40  45.80  45.85  -0.20   \n",
       "\n",
       "       成交筆數  \n",
       "11  78525.0  \n",
       "12  57672.0  \n",
       "13  64945.0  "
      ]
     },
     "execution_count": 168,
     "metadata": {},
     "output_type": "execute_result"
    }
   ],
   "source": [
    "df_Today.loc[df_Today['日期'] > lastday_his]"
   ]
  },
  {
   "cell_type": "code",
   "execution_count": 169,
   "metadata": {},
   "outputs": [
    {
     "data": {
      "text/html": [
       "<div>\n",
       "<style scoped>\n",
       "    .dataframe tbody tr th:only-of-type {\n",
       "        vertical-align: middle;\n",
       "    }\n",
       "\n",
       "    .dataframe tbody tr th {\n",
       "        vertical-align: top;\n",
       "    }\n",
       "\n",
       "    .dataframe thead th {\n",
       "        text-align: right;\n",
       "    }\n",
       "</style>\n",
       "<table border=\"1\" class=\"dataframe\">\n",
       "  <thead>\n",
       "    <tr style=\"text-align: right;\">\n",
       "      <th></th>\n",
       "      <th>日期</th>\n",
       "      <th>成交股數</th>\n",
       "      <th>成交金額</th>\n",
       "      <th>開盤價</th>\n",
       "      <th>最高價</th>\n",
       "      <th>最低價</th>\n",
       "      <th>收盤價</th>\n",
       "      <th>漲跌價差</th>\n",
       "      <th>成交筆數</th>\n",
       "    </tr>\n",
       "  </thead>\n",
       "  <tbody>\n",
       "    <tr>\n",
       "      <th>0</th>\n",
       "      <td>2020-01-02</td>\n",
       "      <td>32937461</td>\n",
       "      <td>544863192</td>\n",
       "      <td>16.45</td>\n",
       "      <td>16.65</td>\n",
       "      <td>16.40</td>\n",
       "      <td>16.55</td>\n",
       "      <td>0.1</td>\n",
       "      <td>5382</td>\n",
       "    </tr>\n",
       "    <tr>\n",
       "      <th>1</th>\n",
       "      <td>2020-01-03</td>\n",
       "      <td>48588354</td>\n",
       "      <td>792990409</td>\n",
       "      <td>16.55</td>\n",
       "      <td>16.55</td>\n",
       "      <td>16.15</td>\n",
       "      <td>16.30</td>\n",
       "      <td>-0.25</td>\n",
       "      <td>9541</td>\n",
       "    </tr>\n",
       "    <tr>\n",
       "      <th>2</th>\n",
       "      <td>2020-01-06</td>\n",
       "      <td>44790472</td>\n",
       "      <td>719002202</td>\n",
       "      <td>16.05</td>\n",
       "      <td>16.15</td>\n",
       "      <td>15.95</td>\n",
       "      <td>16.05</td>\n",
       "      <td>-0.25</td>\n",
       "      <td>5041</td>\n",
       "    </tr>\n",
       "    <tr>\n",
       "      <th>3</th>\n",
       "      <td>2020-01-07</td>\n",
       "      <td>39718117</td>\n",
       "      <td>633334895</td>\n",
       "      <td>16.05</td>\n",
       "      <td>16.15</td>\n",
       "      <td>15.80</td>\n",
       "      <td>16.00</td>\n",
       "      <td>-0.05</td>\n",
       "      <td>7401</td>\n",
       "    </tr>\n",
       "    <tr>\n",
       "      <th>4</th>\n",
       "      <td>2020-01-08</td>\n",
       "      <td>60494690</td>\n",
       "      <td>954618728</td>\n",
       "      <td>15.85</td>\n",
       "      <td>15.90</td>\n",
       "      <td>15.65</td>\n",
       "      <td>15.75</td>\n",
       "      <td>-0.25</td>\n",
       "      <td>9368</td>\n",
       "    </tr>\n",
       "    <tr>\n",
       "      <th>...</th>\n",
       "      <td>...</td>\n",
       "      <td>...</td>\n",
       "      <td>...</td>\n",
       "      <td>...</td>\n",
       "      <td>...</td>\n",
       "      <td>...</td>\n",
       "      <td>...</td>\n",
       "      <td>...</td>\n",
       "      <td>...</td>\n",
       "    </tr>\n",
       "    <tr>\n",
       "      <th>228</th>\n",
       "      <td>2020-12-09</td>\n",
       "      <td>321064214</td>\n",
       "      <td>15950783936</td>\n",
       "      <td>49.10</td>\n",
       "      <td>50.20</td>\n",
       "      <td>49.10</td>\n",
       "      <td>49.90</td>\n",
       "      <td>-1</td>\n",
       "      <td>105914</td>\n",
       "    </tr>\n",
       "    <tr>\n",
       "      <th>229</th>\n",
       "      <td>2020-12-10</td>\n",
       "      <td>460980326</td>\n",
       "      <td>22003933802</td>\n",
       "      <td>48.60</td>\n",
       "      <td>48.90</td>\n",
       "      <td>46.70</td>\n",
       "      <td>47.30</td>\n",
       "      <td>-2.6</td>\n",
       "      <td>162363</td>\n",
       "    </tr>\n",
       "    <tr>\n",
       "      <th>230</th>\n",
       "      <td>2020-12-11</td>\n",
       "      <td>390831102</td>\n",
       "      <td>18150209771</td>\n",
       "      <td>47.45</td>\n",
       "      <td>48.35</td>\n",
       "      <td>45.20</td>\n",
       "      <td>46.10</td>\n",
       "      <td>-1.2</td>\n",
       "      <td>120021</td>\n",
       "    </tr>\n",
       "    <tr>\n",
       "      <th>231</th>\n",
       "      <td>2020-12-14</td>\n",
       "      <td>233249964</td>\n",
       "      <td>10680175679</td>\n",
       "      <td>46.10</td>\n",
       "      <td>46.85</td>\n",
       "      <td>44.60</td>\n",
       "      <td>46.15</td>\n",
       "      <td>0.05</td>\n",
       "      <td>74436</td>\n",
       "    </tr>\n",
       "    <tr>\n",
       "      <th>232</th>\n",
       "      <td>2020-12-15</td>\n",
       "      <td>275779367</td>\n",
       "      <td>12393354215</td>\n",
       "      <td>46.10</td>\n",
       "      <td>46.55</td>\n",
       "      <td>44.00</td>\n",
       "      <td>44.00</td>\n",
       "      <td>-2.15</td>\n",
       "      <td>82136</td>\n",
       "    </tr>\n",
       "  </tbody>\n",
       "</table>\n",
       "<p>233 rows × 9 columns</p>\n",
       "</div>"
      ],
      "text/plain": [
       "            日期       成交股數         成交金額    開盤價    最高價    最低價    收盤價   漲跌價差  \\\n",
       "0   2020-01-02   32937461    544863192  16.45  16.65  16.40  16.55    0.1   \n",
       "1   2020-01-03   48588354    792990409  16.55  16.55  16.15  16.30  -0.25   \n",
       "2   2020-01-06   44790472    719002202  16.05  16.15  15.95  16.05  -0.25   \n",
       "3   2020-01-07   39718117    633334895  16.05  16.15  15.80  16.00  -0.05   \n",
       "4   2020-01-08   60494690    954618728  15.85  15.90  15.65  15.75  -0.25   \n",
       "..         ...        ...          ...    ...    ...    ...    ...    ...   \n",
       "228 2020-12-09  321064214  15950783936  49.10  50.20  49.10  49.90     -1   \n",
       "229 2020-12-10  460980326  22003933802  48.60  48.90  46.70  47.30   -2.6   \n",
       "230 2020-12-11  390831102  18150209771  47.45  48.35  45.20  46.10   -1.2   \n",
       "231 2020-12-14  233249964  10680175679  46.10  46.85  44.60  46.15   0.05   \n",
       "232 2020-12-15  275779367  12393354215  46.10  46.55  44.00  44.00  -2.15   \n",
       "\n",
       "       成交筆數  \n",
       "0      5382  \n",
       "1      9541  \n",
       "2      5041  \n",
       "3      7401  \n",
       "4      9368  \n",
       "..      ...  \n",
       "228  105914  \n",
       "229  162363  \n",
       "230  120021  \n",
       "231   74436  \n",
       "232   82136  \n",
       "\n",
       "[233 rows x 9 columns]"
      ]
     },
     "execution_count": 169,
     "metadata": {},
     "output_type": "execute_result"
    }
   ],
   "source": [
    "df_His"
   ]
  },
  {
   "cell_type": "code",
   "execution_count": 170,
   "metadata": {},
   "outputs": [
    {
     "data": {
      "text/html": [
       "<div>\n",
       "<style scoped>\n",
       "    .dataframe tbody tr th:only-of-type {\n",
       "        vertical-align: middle;\n",
       "    }\n",
       "\n",
       "    .dataframe tbody tr th {\n",
       "        vertical-align: top;\n",
       "    }\n",
       "\n",
       "    .dataframe thead th {\n",
       "        text-align: right;\n",
       "    }\n",
       "</style>\n",
       "<table border=\"1\" class=\"dataframe\">\n",
       "  <thead>\n",
       "    <tr style=\"text-align: right;\">\n",
       "      <th></th>\n",
       "      <th>日期</th>\n",
       "      <th>成交股數</th>\n",
       "      <th>成交金額</th>\n",
       "      <th>開盤價</th>\n",
       "      <th>最高價</th>\n",
       "      <th>最低價</th>\n",
       "      <th>收盤價</th>\n",
       "      <th>漲跌價差</th>\n",
       "      <th>成交筆數</th>\n",
       "    </tr>\n",
       "  </thead>\n",
       "  <tbody>\n",
       "    <tr>\n",
       "      <th>0</th>\n",
       "      <td>2020-01-02</td>\n",
       "      <td>32937461.0</td>\n",
       "      <td>5.448632e+08</td>\n",
       "      <td>16.45</td>\n",
       "      <td>16.65</td>\n",
       "      <td>16.4</td>\n",
       "      <td>16.55</td>\n",
       "      <td>0.1</td>\n",
       "      <td>5382.0</td>\n",
       "    </tr>\n",
       "    <tr>\n",
       "      <th>1</th>\n",
       "      <td>2020-01-03</td>\n",
       "      <td>48588354.0</td>\n",
       "      <td>7.929904e+08</td>\n",
       "      <td>16.55</td>\n",
       "      <td>16.55</td>\n",
       "      <td>16.15</td>\n",
       "      <td>16.3</td>\n",
       "      <td>-0.25</td>\n",
       "      <td>9541.0</td>\n",
       "    </tr>\n",
       "    <tr>\n",
       "      <th>2</th>\n",
       "      <td>2020-01-06</td>\n",
       "      <td>44790472.0</td>\n",
       "      <td>7.190022e+08</td>\n",
       "      <td>16.05</td>\n",
       "      <td>16.15</td>\n",
       "      <td>15.95</td>\n",
       "      <td>16.05</td>\n",
       "      <td>-0.25</td>\n",
       "      <td>5041.0</td>\n",
       "    </tr>\n",
       "    <tr>\n",
       "      <th>3</th>\n",
       "      <td>2020-01-07</td>\n",
       "      <td>39718117.0</td>\n",
       "      <td>6.333349e+08</td>\n",
       "      <td>16.05</td>\n",
       "      <td>16.15</td>\n",
       "      <td>15.8</td>\n",
       "      <td>16</td>\n",
       "      <td>-0.05</td>\n",
       "      <td>7401.0</td>\n",
       "    </tr>\n",
       "    <tr>\n",
       "      <th>4</th>\n",
       "      <td>2020-01-08</td>\n",
       "      <td>60494690.0</td>\n",
       "      <td>9.546187e+08</td>\n",
       "      <td>15.85</td>\n",
       "      <td>15.9</td>\n",
       "      <td>15.65</td>\n",
       "      <td>15.75</td>\n",
       "      <td>-0.25</td>\n",
       "      <td>9368.0</td>\n",
       "    </tr>\n",
       "    <tr>\n",
       "      <th>...</th>\n",
       "      <td>...</td>\n",
       "      <td>...</td>\n",
       "      <td>...</td>\n",
       "      <td>...</td>\n",
       "      <td>...</td>\n",
       "      <td>...</td>\n",
       "      <td>...</td>\n",
       "      <td>...</td>\n",
       "      <td>...</td>\n",
       "    </tr>\n",
       "    <tr>\n",
       "      <th>231</th>\n",
       "      <td>2020-12-14</td>\n",
       "      <td>233249964.0</td>\n",
       "      <td>1.068018e+10</td>\n",
       "      <td>46.1</td>\n",
       "      <td>46.85</td>\n",
       "      <td>44.6</td>\n",
       "      <td>46.15</td>\n",
       "      <td>0.05</td>\n",
       "      <td>74436.0</td>\n",
       "    </tr>\n",
       "    <tr>\n",
       "      <th>232</th>\n",
       "      <td>2020-12-15</td>\n",
       "      <td>275779367.0</td>\n",
       "      <td>1.239335e+10</td>\n",
       "      <td>46.1</td>\n",
       "      <td>46.55</td>\n",
       "      <td>44</td>\n",
       "      <td>44</td>\n",
       "      <td>-2.15</td>\n",
       "      <td>82136.0</td>\n",
       "    </tr>\n",
       "    <tr>\n",
       "      <th>233</th>\n",
       "      <td>2020-12-16</td>\n",
       "      <td>250325714.0</td>\n",
       "      <td>1.133766e+10</td>\n",
       "      <td>44.60</td>\n",
       "      <td>46.10</td>\n",
       "      <td>44.60</td>\n",
       "      <td>44.90</td>\n",
       "      <td>+0.90</td>\n",
       "      <td>78525.0</td>\n",
       "    </tr>\n",
       "    <tr>\n",
       "      <th>234</th>\n",
       "      <td>2020-12-17</td>\n",
       "      <td>189154904.0</td>\n",
       "      <td>8.634708e+09</td>\n",
       "      <td>45.35</td>\n",
       "      <td>46.40</td>\n",
       "      <td>44.90</td>\n",
       "      <td>46.05</td>\n",
       "      <td>+1.15</td>\n",
       "      <td>57672.0</td>\n",
       "    </tr>\n",
       "    <tr>\n",
       "      <th>235</th>\n",
       "      <td>2020-12-18</td>\n",
       "      <td>230929009.0</td>\n",
       "      <td>1.075046e+10</td>\n",
       "      <td>47.00</td>\n",
       "      <td>47.40</td>\n",
       "      <td>45.80</td>\n",
       "      <td>45.85</td>\n",
       "      <td>-0.20</td>\n",
       "      <td>64945.0</td>\n",
       "    </tr>\n",
       "  </tbody>\n",
       "</table>\n",
       "<p>236 rows × 9 columns</p>\n",
       "</div>"
      ],
      "text/plain": [
       "            日期         成交股數          成交金額    開盤價    最高價    最低價    收盤價   漲跌價差  \\\n",
       "0   2020-01-02   32937461.0  5.448632e+08  16.45  16.65   16.4  16.55    0.1   \n",
       "1   2020-01-03   48588354.0  7.929904e+08  16.55  16.55  16.15   16.3  -0.25   \n",
       "2   2020-01-06   44790472.0  7.190022e+08  16.05  16.15  15.95  16.05  -0.25   \n",
       "3   2020-01-07   39718117.0  6.333349e+08  16.05  16.15   15.8     16  -0.05   \n",
       "4   2020-01-08   60494690.0  9.546187e+08  15.85   15.9  15.65  15.75  -0.25   \n",
       "..         ...          ...           ...    ...    ...    ...    ...    ...   \n",
       "231 2020-12-14  233249964.0  1.068018e+10   46.1  46.85   44.6  46.15   0.05   \n",
       "232 2020-12-15  275779367.0  1.239335e+10   46.1  46.55     44     44  -2.15   \n",
       "233 2020-12-16  250325714.0  1.133766e+10  44.60  46.10  44.60  44.90  +0.90   \n",
       "234 2020-12-17  189154904.0  8.634708e+09  45.35  46.40  44.90  46.05  +1.15   \n",
       "235 2020-12-18  230929009.0  1.075046e+10  47.00  47.40  45.80  45.85  -0.20   \n",
       "\n",
       "        成交筆數  \n",
       "0     5382.0  \n",
       "1     9541.0  \n",
       "2     5041.0  \n",
       "3     7401.0  \n",
       "4     9368.0  \n",
       "..       ...  \n",
       "231  74436.0  \n",
       "232  82136.0  \n",
       "233  78525.0  \n",
       "234  57672.0  \n",
       "235  64945.0  \n",
       "\n",
       "[236 rows x 9 columns]"
      ]
     },
     "execution_count": 170,
     "metadata": {},
     "output_type": "execute_result"
    }
   ],
   "source": [
    "#合併資料\n",
    "result = pd.DataFrame()\n",
    "result = pd.concat([result, df_His], ignore_index=True)\n",
    "result = pd.concat([result, df_Today.loc[df_Today['日期'] > lastday_his]], ignore_index=True)\n",
    "result"
   ]
  },
  {
   "cell_type": "code",
   "execution_count": null,
   "metadata": {},
   "outputs": [],
   "source": []
  },
  {
   "cell_type": "code",
   "execution_count": null,
   "metadata": {},
   "outputs": [],
   "source": []
  },
  {
   "cell_type": "code",
   "execution_count": null,
   "metadata": {},
   "outputs": [],
   "source": []
  },
  {
   "cell_type": "code",
   "execution_count": null,
   "metadata": {},
   "outputs": [],
   "source": [
    "df"
   ]
  },
  {
   "cell_type": "code",
   "execution_count": null,
   "metadata": {},
   "outputs": [],
   "source": [
    "#複製測試用\n",
    "df2 = df.copy()\n",
    "df2"
   ]
  },
  {
   "cell_type": "code",
   "execution_count": null,
   "metadata": {},
   "outputs": [],
   "source": [
    "df2['日期'] = pd.to_datetime(df2['日期'].astype(str), format='%Y/%m/%d')"
   ]
  },
  {
   "cell_type": "code",
   "execution_count": null,
   "metadata": {},
   "outputs": [],
   "source": [
    "#轉換型態.\n",
    "if df2['成交筆數'].dtype != 'float64':\n",
    "    df2['成交筆數'] = df2['成交筆數'].str.replace(',','').astype(float)\n",
    "if df2['成交股數'].dtype != 'float64':\n",
    "    df2['成交股數'] = df2['成交股數'].str.replace(',','').astype(float)\n",
    "if df2['成交金額'].dtype != 'float64':\n",
    "    df2['成交金額'] = df2['成交金額'].str.replace(',','').astype(float)"
   ]
  },
  {
   "cell_type": "code",
   "execution_count": null,
   "metadata": {},
   "outputs": [],
   "source": [
    "df2\n",
    "df2.dtypes"
   ]
  },
  {
   "cell_type": "code",
   "execution_count": null,
   "metadata": {},
   "outputs": [],
   "source": [
    "df2.loc[:,'日期'].max()"
   ]
  },
  {
   "cell_type": "code",
   "execution_count": null,
   "metadata": {},
   "outputs": [],
   "source": [
    "df2.loc[df2[\"日期\"]==df2.loc[:,\"日期\"].max(),\"日期\"]"
   ]
  },
  {
   "cell_type": "code",
   "execution_count": null,
   "metadata": {},
   "outputs": [],
   "source": [
    "#讀取原有的資料.\n",
    "df_History = pd.read_csv(fullpath)"
   ]
  },
  {
   "cell_type": "code",
   "execution_count": null,
   "metadata": {},
   "outputs": [],
   "source": [
    "df_History.dtypes\n",
    "df_History"
   ]
  },
  {
   "cell_type": "code",
   "execution_count": null,
   "metadata": {},
   "outputs": [],
   "source": [
    "#轉換型態.\n",
    "df_History['日期'] = pd.to_datetime(df_History['日期'].astype(str), format='%Y/%m/%d')\n",
    "if df_History['成交筆數'].dtype != 'float64':\n",
    "    df_History['成交筆數'] = df_History['成交筆數'].str.replace(',','').astype(float)\n",
    "if df_History['成交股數'].dtype != 'float64':\n",
    "    df_History['成交股數'] = df_History['成交股數'].str.replace(',','').astype(float)\n",
    "if df_History['成交金額'].dtype != 'float64':\n",
    "    df_History['成交金額'] = df_History['成交金額'].str.replace(',','').astype(float)"
   ]
  },
  {
   "cell_type": "code",
   "execution_count": null,
   "metadata": {},
   "outputs": [],
   "source": []
  }
 ],
 "metadata": {
  "kernelspec": {
   "display_name": "Python (myenv)",
   "language": "python",
   "name": "myenv"
  },
  "language_info": {
   "codemirror_mode": {
    "name": "ipython",
    "version": 3
   },
   "file_extension": ".py",
   "mimetype": "text/x-python",
   "name": "python",
   "nbconvert_exporter": "python",
   "pygments_lexer": "ipython3",
   "version": "3.6.12"
  }
 },
 "nbformat": 4,
 "nbformat_minor": 4
}
