{
 "cells": [
  {
   "cell_type": "code",
   "execution_count": 1,
   "metadata": {},
   "outputs": [],
   "source": [
    "# import package\n",
    "from datetime import datetime as dtime\n",
    "from datetime import date,timedelta\n",
    "from urllib.request import urlopen\n",
    "import requests\n",
    "from dateutil import rrule\n",
    "import matplotlib.pyplot as plt\n",
    "from datetime import datetime\n",
    "import pandas as pd\n",
    "import numpy as np\n",
    "import json\n",
    "import time\n",
    "import os\n",
    "from io import StringIO"
   ]
  },
  {
   "cell_type": "code",
   "execution_count": 2,
   "metadata": {},
   "outputs": [],
   "source": [
    "DataPath = \"./Data/\""
   ]
  },
  {
   "cell_type": "code",
   "execution_count": 3,
   "metadata": {},
   "outputs": [],
   "source": [
    "# 爬取每月股價的目標網站並包裝成函式\n",
    "def craw_one_month(stock_number,date):\n",
    "    url = (\n",
    "        \"http://www.twse.com.tw/exchangeReport/STOCK_DAY?response=json&date=\"+\n",
    "        date.strftime('%Y%m%d')+\n",
    "        \"&stockNo=\"+\n",
    "        str(stock_number)\n",
    "    )\n",
    "    data = json.loads(urlopen(url).read())\n",
    "    return pd.DataFrame(data['data'],columns=data['fields'])"
   ]
  },
  {
   "cell_type": "code",
   "execution_count": 4,
   "metadata": {},
   "outputs": [],
   "source": [
    "# 根據使用者輸入的日期，以月為單位，重複呼叫爬取月股價的函式\n",
    "def craw_stock(stock_number, start_month):\n",
    "    b_month = date(*[int(x) for x in start_month.split('-')])\n",
    "    now = dtime.now().strftime(\"%Y-%m-%d\")         # 取得現在時間\n",
    "    e_month = date(*[int(x) for x in now.split('-')])\n",
    "    \n",
    "    result = pd.DataFrame()\n",
    "    for dt in rrule.rrule(rrule.MONTHLY, dtstart=b_month, until=e_month):\n",
    "        result = pd.concat([result,craw_one_month(stock_number,dt)],ignore_index=True)\n",
    "        time.sleep(2000.0/1000.0);\n",
    "    \n",
    "    return result"
   ]
  },
  {
   "cell_type": "code",
   "execution_count": null,
   "metadata": {},
   "outputs": [],
   "source": [
    "# 建立資料夾\n",
    "def MKDir(path):\n",
    "    try:\n",
    "        os.mkdir(path)\n",
    "    except OSError:\n",
    "        print (\"Creation of the directory %s failed\" % path)"
   ]
  },
  {
   "cell_type": "code",
   "execution_count": null,
   "metadata": {},
   "outputs": [],
   "source": [
    "# 建立資料夾，搜尋並且存股票資料\n",
    "def rrule_test(stock_number, start_month):\n",
    "    MKDir(DataPath+str(stock_number))\n",
    "    b_month = date(*[int(x) for x in start_month.split('-')])\n",
    "    print(b_month.strftime('%Y-%m'))\n",
    "    now = dtime.now().strftime(\"%Y-%m-%d\")         # 取得現在時間\n",
    "    e_month = date(*[int(x) for x in now.split('-')])\n",
    "    print(b_month)\n",
    "    print(e_month)\n",
    "    \n",
    "    for dt in rrule.rrule(rrule.MONTHLY, dtstart=b_month, until=e_month):\n",
    "        print(dt)\n",
    "        CurrentData = DataPath + str(stock_number) + '/' + dt.strftime('%Y-%m') + '.csv'\n",
    "        print(CurrentData)\n",
    "        if os.path.isfile(CurrentData):\n",
    "            print(\"檔案存在。\")\n",
    "        else:\n",
    "            print(\"檔案不存在。\")\n",
    "            result = pd.DataFrame()\n",
    "            result = pd.concat([result,craw_one_month(stock_number,dt)],ignore_index=True)\n",
    "            result.to_csv(CurrentData, encoding='utf_8_sig')\n",
    "            time.sleep(2000.0/1000.0)\n",
    "        \n",
    "        \n"
   ]
  },
  {
   "cell_type": "code",
   "execution_count": 8,
   "metadata": {},
   "outputs": [],
   "source": [
    "# 取得證券編號\n",
    "def get_stock_list():\n",
    "    res = requests.get(\"http://isin.twse.com.tw/isin/C_public.jsp?strMode=2\")\n",
    "    df = pd.read_html(res.text)[0]\n",
    "    print(df)\n",
    "    "
   ]
  },
  {
   "cell_type": "code",
   "execution_count": 11,
   "metadata": {},
   "outputs": [],
   "source": [
    "def create_tw_stock_info_list():\n",
    "    res = requests.get(\"http://isin.twse.com.tw/isin/C_public.jsp?strMode=2\")\n",
    "    df = pd.read_html(res.text)[0]\n",
    "    return df\n",
    "#     df.columns = df.iloc[0]\n",
    "#     df = df.iloc[1:]\n",
    "#     df = df.dropna(thresh=3, axis=0).dropna(thresh=3, axis=1)\n",
    "#     df = df.dropna(how='any')\n",
    "#     df = df.reset_index(drop=True)\n",
    "#     new_df = df['有價證券代號及名稱'].str.replace(u'\\u3000',' ').str.split(u' ',expand=True)\n",
    "#     new_df.columns = ['Ticker', 'StockName']\n",
    "#     new_df['Sector'] = df['產業別']\n",
    "#     return new_df"
   ]
  },
  {
   "cell_type": "code",
   "execution_count": null,
   "metadata": {},
   "outputs": [],
   "source": [
    "rrule_test(3034, \"2020-05-1\")"
   ]
  },
  {
   "cell_type": "code",
   "execution_count": null,
   "metadata": {},
   "outputs": [],
   "source": [
    "df = craw_stock(3034,\"2020-10-1\")"
   ]
  },
  {
   "cell_type": "code",
   "execution_count": null,
   "metadata": {},
   "outputs": [],
   "source": [
    "df.to_csv('./Data/3034.csv', encoding='utf_8_sig')"
   ]
  },
  {
   "cell_type": "code",
   "execution_count": null,
   "metadata": {},
   "outputs": [],
   "source": [
    "MKDir('Data')"
   ]
  },
  {
   "cell_type": "code",
   "execution_count": 12,
   "metadata": {},
   "outputs": [
    {
     "name": "stdout",
     "output_type": "stream",
     "text": [
      "                   0                    1           2    3     4        5    6\n",
      "0          有價證券代號及名稱  國際證券辨識號碼(ISIN Code)         上市日  市場別   產業別  CFICode   備註\n",
      "1                 股票                   股票          股票   股票    股票       股票   股票\n",
      "2            1101　台泥         TW0001101004  1962/02/09   上市  水泥工業   ESVUFR  NaN\n",
      "3            1102　亞泥         TW0001102002  1962/06/08   上市  水泥工業   ESVUFR  NaN\n",
      "4            1103　嘉泥         TW0001103000  1969/11/14   上市  水泥工業   ESVUFR  NaN\n",
      "...              ...                  ...         ...  ...   ...      ...  ...\n",
      "19825  01003T　兆豐新光R1         TW00001003T4  2005/12/26   上市   NaN   CBCIXU  NaN\n",
      "19826  01004T　土銀富邦R2         TW00001004T2  2006/04/13   上市   NaN   CBCIXU  NaN\n",
      "19827  01007T　兆豐國泰R2         TW00001007T5  2006/10/13   上市   NaN   CBCIXU  NaN\n",
      "19828  01009T　王道圓滿R1         TW00001009T1  2018/06/21   上市   NaN   CBCIXU  NaN\n",
      "19829  01010T　京城樂富R1         TW00001010T9  2018/12/05   上市   NaN   CBCIXU  NaN\n",
      "\n",
      "[19830 rows x 7 columns]\n"
     ]
    }
   ],
   "source": [
    "list = create_tw_stock_info_list()\n",
    "print(list)"
   ]
  },
  {
   "cell_type": "code",
   "execution_count": 1,
   "metadata": {},
   "outputs": [
    {
     "ename": "NameError",
     "evalue": "name 'requests' is not defined",
     "output_type": "error",
     "traceback": [
      "\u001b[1;31m---------------------------------------------------------------------------\u001b[0m",
      "\u001b[1;31mNameError\u001b[0m                                 Traceback (most recent call last)",
      "\u001b[1;32m<ipython-input-1-f8efad242d89>\u001b[0m in \u001b[0;36m<module>\u001b[1;34m\u001b[0m\n\u001b[0;32m      2\u001b[0m \u001b[1;33m\u001b[0m\u001b[0m\n\u001b[0;32m      3\u001b[0m \u001b[1;31m# 下載股價\u001b[0m\u001b[1;33m\u001b[0m\u001b[1;33m\u001b[0m\u001b[1;33m\u001b[0m\u001b[0m\n\u001b[1;32m----> 4\u001b[1;33m \u001b[0mr\u001b[0m \u001b[1;33m=\u001b[0m \u001b[0mrequests\u001b[0m\u001b[1;33m.\u001b[0m\u001b[0mpost\u001b[0m\u001b[1;33m(\u001b[0m\u001b[1;34m'https://www.twse.com.tw/exchangeReport/MI_INDEX?response=csv&date='\u001b[0m \u001b[1;33m+\u001b[0m \u001b[0mdatestr\u001b[0m \u001b[1;33m+\u001b[0m \u001b[1;34m'&type=ALL'\u001b[0m\u001b[1;33m)\u001b[0m\u001b[1;33m\u001b[0m\u001b[1;33m\u001b[0m\u001b[0m\n\u001b[0m\u001b[0;32m      5\u001b[0m \u001b[1;33m\u001b[0m\u001b[0m\n\u001b[0;32m      6\u001b[0m \u001b[1;31m# 整理資料，變成表格\u001b[0m\u001b[1;33m\u001b[0m\u001b[1;33m\u001b[0m\u001b[1;33m\u001b[0m\u001b[0m\n",
      "\u001b[1;31mNameError\u001b[0m: name 'requests' is not defined"
     ]
    }
   ],
   "source": [
    "datestr = '20180131'\n",
    "\n",
    "# 下載股價\n",
    "r = requests.post('https://www.twse.com.tw/exchangeReport/MI_INDEX?response=csv&date=' + datestr + '&type=ALL')\n",
    "\n",
    "# 整理資料，變成表格\n",
    "df = pd.read_csv(StringIO(r.text.replace(\"=\", \"\")), \n",
    "            header=[\"證券代號\" in l for l in r.text.split(\"\\n\")].index(True)-1)\n",
    "\n",
    "# 整理一些字串：\n",
    "df = df.apply(lambda s: pd.to_numeric(s.astype(str).str.replace(\",\", \"\").replace(\"+\", \"1\").replace(\"-\", \"-1\"), errors='coerce'))\n",
    "\n",
    "# 顯示出來\n",
    "df.head()"
   ]
  },
  {
   "cell_type": "code",
   "execution_count": 27,
   "metadata": {},
   "outputs": [
    {
     "name": "stdout",
     "output_type": "stream",
     "text": [
      "         證券代號 證券名稱     成交股數  成交筆數       成交金額    開盤價    最高價    最低價    收盤價  \\\n",
      "0        50.0  NaN  4251739  1176  359040915  84.40  85.00  84.15  84.65   \n",
      "1        51.0  NaN     7500     3     243040  32.39  32.39  32.39  32.39   \n",
      "2        52.0  NaN     4001     5     229706  57.35  57.60  57.30  57.40   \n",
      "3        53.0  NaN        1     1         37    NaN    NaN    NaN    NaN   \n",
      "4        54.0  NaN     2001     3      48904  24.44  24.44  24.44  24.44   \n",
      "...       ...  ...      ...   ...        ...    ...    ...    ...    ...   \n",
      "13718  9944.0  NaN    31013    28     612197  19.75  19.75  19.70  19.70   \n",
      "13719  9945.0  NaN  3736138  1927  124164872  33.00  33.70  32.65  33.45   \n",
      "13720  9946.0  NaN   188743    83    2429334  12.80  13.00  12.80  13.00   \n",
      "13721  9955.0  NaN    69012    49    1037730  14.80  15.15  14.80  15.00   \n",
      "13722  9958.0  NaN  7951033  3588  337437513  39.10  43.65  39.10  43.65   \n",
      "\n",
      "       漲跌(+/-)  漲跌價差  最後揭示買價  最後揭示買量  最後揭示賣價  最後揭示賣量     本益比  Unnamed: 16  \n",
      "0          1.0  0.10   84.60      21   84.65      80    0.00          NaN  \n",
      "1          1.0  0.09   32.39      43   32.50       5    0.00          NaN  \n",
      "2          1.0  0.05   57.35       1   57.90       1    0.00          NaN  \n",
      "3          NaN  0.00   37.09      50   37.35       1    0.00          NaN  \n",
      "4         -1.0  0.05   24.41      50   24.64       8    0.00          NaN  \n",
      "...        ...   ...     ...     ...     ...     ...     ...          ...  \n",
      "13718      1.0  0.05   19.70       3   19.75      10   50.51          NaN  \n",
      "13719      1.0  0.40   33.45      15   33.50      52    7.55          NaN  \n",
      "13720     -1.0  0.05   12.90       3   13.00       4   13.98          NaN  \n",
      "13721      1.0  0.20   14.95       7   15.00       1    0.00          NaN  \n",
      "13722      1.0  3.95   43.60     186   43.65       1  136.41          NaN  \n",
      "\n",
      "[13723 rows x 17 columns]\n"
     ]
    }
   ],
   "source": [
    "print(df)"
   ]
  },
  {
   "cell_type": "code",
   "execution_count": 20,
   "metadata": {},
   "outputs": [
    {
     "name": "stdout",
     "output_type": "stream",
     "text": [
      "<class 'pandas.core.frame.DataFrame'>\n",
      "RangeIndex: 13723 entries, 0 to 13722\n",
      "Data columns (total 17 columns):\n",
      " #   Column       Non-Null Count  Dtype  \n",
      "---  ------       --------------  -----  \n",
      " 0   證券代號         11177 non-null  float64\n",
      " 1   證券名稱         0 non-null      float64\n",
      " 2   成交股數         13723 non-null  int64  \n",
      " 3   成交筆數         13723 non-null  int64  \n",
      " 4   成交金額         13723 non-null  int64  \n",
      " 5   開盤價          9401 non-null   float64\n",
      " 6   最高價          9401 non-null   float64\n",
      " 7   最低價          9401 non-null   float64\n",
      " 8   收盤價          9401 non-null   float64\n",
      " 9   漲跌(+/-)      7714 non-null   float64\n",
      " 10  漲跌價差         13723 non-null  float64\n",
      " 11  最後揭示買價       13090 non-null  float64\n",
      " 12  最後揭示買量       13723 non-null  int64  \n",
      " 13  最後揭示賣價       13306 non-null  float64\n",
      " 14  最後揭示賣量       13723 non-null  int64  \n",
      " 15  本益比          13723 non-null  float64\n",
      " 16  Unnamed: 16  0 non-null      float64\n",
      "dtypes: float64(12), int64(5)\n",
      "memory usage: 1.8 MB\n"
     ]
    }
   ],
   "source": [
    "df.info()"
   ]
  },
  {
   "cell_type": "code",
   "execution_count": 24,
   "metadata": {},
   "outputs": [],
   "source": [
    "df['證券名稱'].astype('object')\n",
    "df['證券名稱'] = df['證券名稱'].astype('object')"
   ]
  },
  {
   "cell_type": "code",
   "execution_count": 25,
   "metadata": {},
   "outputs": [
    {
     "name": "stdout",
     "output_type": "stream",
     "text": [
      "<class 'pandas.core.frame.DataFrame'>\n",
      "RangeIndex: 13723 entries, 0 to 13722\n",
      "Data columns (total 17 columns):\n",
      " #   Column       Non-Null Count  Dtype  \n",
      "---  ------       --------------  -----  \n",
      " 0   證券代號         11177 non-null  float64\n",
      " 1   證券名稱         0 non-null      object \n",
      " 2   成交股數         13723 non-null  int64  \n",
      " 3   成交筆數         13723 non-null  int64  \n",
      " 4   成交金額         13723 non-null  int64  \n",
      " 5   開盤價          9401 non-null   float64\n",
      " 6   最高價          9401 non-null   float64\n",
      " 7   最低價          9401 non-null   float64\n",
      " 8   收盤價          9401 non-null   float64\n",
      " 9   漲跌(+/-)      7714 non-null   float64\n",
      " 10  漲跌價差         13723 non-null  float64\n",
      " 11  最後揭示買價       13090 non-null  float64\n",
      " 12  最後揭示買量       13723 non-null  int64  \n",
      " 13  最後揭示賣價       13306 non-null  float64\n",
      " 14  最後揭示賣量       13723 non-null  int64  \n",
      " 15  本益比          13723 non-null  float64\n",
      " 16  Unnamed: 16  0 non-null      float64\n",
      "dtypes: float64(11), int64(5), object(1)\n",
      "memory usage: 1.8+ MB\n"
     ]
    }
   ],
   "source": [
    "df.info()"
   ]
  },
  {
   "cell_type": "code",
   "execution_count": 29,
   "metadata": {},
   "outputs": [
    {
     "data": {
      "text/html": [
       "<div>\n",
       "<style scoped>\n",
       "    .dataframe tbody tr th:only-of-type {\n",
       "        vertical-align: middle;\n",
       "    }\n",
       "\n",
       "    .dataframe tbody tr th {\n",
       "        vertical-align: top;\n",
       "    }\n",
       "\n",
       "    .dataframe thead th {\n",
       "        text-align: right;\n",
       "    }\n",
       "</style>\n",
       "<table border=\"1\" class=\"dataframe\">\n",
       "  <thead>\n",
       "    <tr style=\"text-align: right;\">\n",
       "      <th></th>\n",
       "      <th>證券代號</th>\n",
       "      <th>證券名稱</th>\n",
       "      <th>成交股數</th>\n",
       "      <th>成交筆數</th>\n",
       "      <th>成交金額</th>\n",
       "      <th>開盤價</th>\n",
       "      <th>最高價</th>\n",
       "      <th>最低價</th>\n",
       "      <th>收盤價</th>\n",
       "      <th>漲跌(+/-)</th>\n",
       "      <th>漲跌價差</th>\n",
       "      <th>最後揭示買價</th>\n",
       "      <th>最後揭示買量</th>\n",
       "      <th>最後揭示賣價</th>\n",
       "      <th>最後揭示賣量</th>\n",
       "      <th>本益比</th>\n",
       "      <th>Unnamed: 16</th>\n",
       "    </tr>\n",
       "  </thead>\n",
       "  <tbody>\n",
       "    <tr>\n",
       "      <th>0</th>\n",
       "      <td>50.0</td>\n",
       "      <td>NaN</td>\n",
       "      <td>4251739</td>\n",
       "      <td>1176</td>\n",
       "      <td>359040915</td>\n",
       "      <td>84.40</td>\n",
       "      <td>85.00</td>\n",
       "      <td>84.15</td>\n",
       "      <td>84.65</td>\n",
       "      <td>1.0</td>\n",
       "      <td>0.10</td>\n",
       "      <td>84.60</td>\n",
       "      <td>21</td>\n",
       "      <td>84.65</td>\n",
       "      <td>80</td>\n",
       "      <td>0.0</td>\n",
       "      <td>NaN</td>\n",
       "    </tr>\n",
       "    <tr>\n",
       "      <th>1</th>\n",
       "      <td>51.0</td>\n",
       "      <td>NaN</td>\n",
       "      <td>7500</td>\n",
       "      <td>3</td>\n",
       "      <td>243040</td>\n",
       "      <td>32.39</td>\n",
       "      <td>32.39</td>\n",
       "      <td>32.39</td>\n",
       "      <td>32.39</td>\n",
       "      <td>1.0</td>\n",
       "      <td>0.09</td>\n",
       "      <td>32.39</td>\n",
       "      <td>43</td>\n",
       "      <td>32.50</td>\n",
       "      <td>5</td>\n",
       "      <td>0.0</td>\n",
       "      <td>NaN</td>\n",
       "    </tr>\n",
       "    <tr>\n",
       "      <th>2</th>\n",
       "      <td>52.0</td>\n",
       "      <td>NaN</td>\n",
       "      <td>4001</td>\n",
       "      <td>5</td>\n",
       "      <td>229706</td>\n",
       "      <td>57.35</td>\n",
       "      <td>57.60</td>\n",
       "      <td>57.30</td>\n",
       "      <td>57.40</td>\n",
       "      <td>1.0</td>\n",
       "      <td>0.05</td>\n",
       "      <td>57.35</td>\n",
       "      <td>1</td>\n",
       "      <td>57.90</td>\n",
       "      <td>1</td>\n",
       "      <td>0.0</td>\n",
       "      <td>NaN</td>\n",
       "    </tr>\n",
       "    <tr>\n",
       "      <th>3</th>\n",
       "      <td>53.0</td>\n",
       "      <td>NaN</td>\n",
       "      <td>1</td>\n",
       "      <td>1</td>\n",
       "      <td>37</td>\n",
       "      <td>NaN</td>\n",
       "      <td>NaN</td>\n",
       "      <td>NaN</td>\n",
       "      <td>NaN</td>\n",
       "      <td>NaN</td>\n",
       "      <td>0.00</td>\n",
       "      <td>37.09</td>\n",
       "      <td>50</td>\n",
       "      <td>37.35</td>\n",
       "      <td>1</td>\n",
       "      <td>0.0</td>\n",
       "      <td>NaN</td>\n",
       "    </tr>\n",
       "    <tr>\n",
       "      <th>4</th>\n",
       "      <td>54.0</td>\n",
       "      <td>NaN</td>\n",
       "      <td>2001</td>\n",
       "      <td>3</td>\n",
       "      <td>48904</td>\n",
       "      <td>24.44</td>\n",
       "      <td>24.44</td>\n",
       "      <td>24.44</td>\n",
       "      <td>24.44</td>\n",
       "      <td>-1.0</td>\n",
       "      <td>0.05</td>\n",
       "      <td>24.41</td>\n",
       "      <td>50</td>\n",
       "      <td>24.64</td>\n",
       "      <td>8</td>\n",
       "      <td>0.0</td>\n",
       "      <td>NaN</td>\n",
       "    </tr>\n",
       "  </tbody>\n",
       "</table>\n",
       "</div>"
      ],
      "text/plain": [
       "   證券代號 證券名稱     成交股數  成交筆數       成交金額    開盤價    最高價    最低價    收盤價  漲跌(+/-)  \\\n",
       "0  50.0  NaN  4251739  1176  359040915  84.40  85.00  84.15  84.65      1.0   \n",
       "1  51.0  NaN     7500     3     243040  32.39  32.39  32.39  32.39      1.0   \n",
       "2  52.0  NaN     4001     5     229706  57.35  57.60  57.30  57.40      1.0   \n",
       "3  53.0  NaN        1     1         37    NaN    NaN    NaN    NaN      NaN   \n",
       "4  54.0  NaN     2001     3      48904  24.44  24.44  24.44  24.44     -1.0   \n",
       "\n",
       "   漲跌價差  最後揭示買價  最後揭示買量  最後揭示賣價  最後揭示賣量  本益比  Unnamed: 16  \n",
       "0  0.10   84.60      21   84.65      80  0.0          NaN  \n",
       "1  0.09   32.39      43   32.50       5  0.0          NaN  \n",
       "2  0.05   57.35       1   57.90       1  0.0          NaN  \n",
       "3  0.00   37.09      50   37.35       1  0.0          NaN  \n",
       "4  0.05   24.41      50   24.64       8  0.0          NaN  "
      ]
     },
     "execution_count": 29,
     "metadata": {},
     "output_type": "execute_result"
    }
   ],
   "source": [
    "df.head()"
   ]
  },
  {
   "cell_type": "code",
   "execution_count": null,
   "metadata": {},
   "outputs": [],
   "source": []
  }
 ],
 "metadata": {
  "kernelspec": {
   "display_name": "Python (myenv)",
   "language": "python",
   "name": "myenv"
  },
  "language_info": {
   "codemirror_mode": {
    "name": "ipython",
    "version": 3
   },
   "file_extension": ".py",
   "mimetype": "text/x-python",
   "name": "python",
   "nbconvert_exporter": "python",
   "pygments_lexer": "ipython3",
   "version": "3.6.12"
  }
 },
 "nbformat": 4,
 "nbformat_minor": 4
}
