{
 "cells": [
  {
   "cell_type": "code",
   "execution_count": 1,
   "metadata": {},
   "outputs": [],
   "source": [
    "# import package\n",
    "from datetime import datetime as dtime\n",
    "from datetime import date,timedelta\n",
    "from urllib.request import urlopen\n",
    "from dateutil import rrule\n",
    "import matplotlib.pyplot as plt\n",
    "from datetime import datetime\n",
    "import pandas as pd\n",
    "import numpy as np\n",
    "import json\n",
    "import time"
   ]
  },
  {
   "cell_type": "code",
   "execution_count": 2,
   "metadata": {},
   "outputs": [],
   "source": [
    "# 爬取每月股價的目標網站並包裝成函式\n",
    "def craw_one_month(stock_number,date):\n",
    "    url = (\n",
    "        \"http://www.twse.com.tw/exchangeReport/STOCK_DAY?response=json&date=\"+\n",
    "        date.strftime('%Y%m%d')+\n",
    "        \"&stockNo=\"+\n",
    "        str(stock_number)\n",
    "    )\n",
    "    data = json.loads(urlopen(url).read())\n",
    "    return pd.DataFrame(data['data'],columns=data['fields'])"
   ]
  },
  {
   "cell_type": "code",
   "execution_count": 3,
   "metadata": {},
   "outputs": [],
   "source": [
    "# 根據使用者輸入的日期，以月為單位，重複呼叫爬取月股價的函式\n",
    "def craw_stock(stock_number, start_month):\n",
    "    b_month = date(*[int(x) for x in start_month.split('-')])\n",
    "    now = dtime.now().strftime(\"%Y-%m-%d\")         # 取得現在時間\n",
    "    e_month = date(*[int(x) for x in now.split('-')])\n",
    "    \n",
    "    result = pd.DataFrame()\n",
    "    for dt in rrule.rrule(rrule.MONTHLY, dtstart=b_month, until=e_month):\n",
    "        result = pd.concat([result,craw_one_month(stock_number,dt)],ignore_index=True)\n",
    "        time.sleep(2000.0/1000.0);\n",
    "    \n",
    "    return result"
   ]
  },
  {
   "cell_type": "code",
   "execution_count": null,
   "metadata": {},
   "outputs": [],
   "source": [
    "df = craw_stock(3034,\"2020-10-18\")"
   ]
  },
  {
   "cell_type": "code",
   "execution_count": null,
   "metadata": {},
   "outputs": [],
   "source": [
    "print(df)"
   ]
  },
  {
   "cell_type": "code",
   "execution_count": null,
   "metadata": {},
   "outputs": [],
   "source": []
  }
 ],
 "metadata": {
  "kernelspec": {
   "display_name": "Python (myenv)",
   "language": "python",
   "name": "myenv"
  },
  "language_info": {
   "codemirror_mode": {
    "name": "ipython",
    "version": 3
   },
   "file_extension": ".py",
   "mimetype": "text/x-python",
   "name": "python",
   "nbconvert_exporter": "python",
   "pygments_lexer": "ipython3",
   "version": "3.6.12"
  }
 },
 "nbformat": 4,
 "nbformat_minor": 4
}
